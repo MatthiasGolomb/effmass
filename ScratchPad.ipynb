{
 "cells": [
  {
   "cell_type": "code",
   "execution_count": 1,
   "id": "provincial-french",
   "metadata": {},
   "outputs": [],
   "source": [
    "from vasppy import procar, outcar\n",
    "from effmass import extrema\n",
    "import math\n",
    "import warnings\n",
    "import numpy as np"
   ]
  },
  {
   "cell_type": "code",
   "execution_count": null,
   "id": "northern-patrick",
   "metadata": {},
   "outputs": [],
   "source": [
    "class DataCastep():\n",
    "    r\"\"\"\n",
    "    Class for parsing and storing ASE bandstructure object.\n",
    "\n",
    "    Attributes:\n",
    "        spin_channels (int): 1 (non-spin-polarised), 2 (spin-polarised), 4 (spin-orbit coupling).\n",
    "        number_of_kpoints (int): the number of k-points per band.\n",
    "        number_of_bands (int): the number of bands.\n",
    "        number_of_ions (int): the number of ions.\n",
    "        kpoints (array(float)): 2-dimensional array with shape (number_of_kpoints, 3). Each row contains the fractional coordinates of a kpoint [kx,ky,kz].\n",
    "        energies (array(float)): 2-dimensional array with shape (number_of_bands,number_of_kpoints). Each row contains energies of eigenstates in eV for a particular band.\n",
    "        occupancy (array(float)): 2-dimensional array with shape (number_of_bands,number_of_kpoints). Each row contains occupation number of the eigenstates for a particular band. Values range from 0-1 (spin-polarised) or 0-2 (non-spin-polarised).\n",
    "        reciprocal_lattice (list(float)): the reciprocal lattice vectors in format [[x1,y1,z1],[x2,y2,z2],[x3,y3,z3]], units Angstrom :math:`^{-1}`.\n",
    "        CBM (float): the conduction band minimum energy in eV.\n",
    "        VBM (float): the valence band maximum in eV.\n",
    "        fermi_energy (float): the fermi energy in eV. Automatically set to the mean of Data.CBM and Data.VBM.\n",
    "    \"\"\"\n",
    "    "
   ]
  },
  {
   "cell_type": "code",
   "execution_count": 31,
   "id": "south-balance",
   "metadata": {},
   "outputs": [],
   "source": [
    "import ase\n",
    "from ase.spectrum.band_structure import BandStructure\n",
    "from ase.calculators.castep import Castep"
   ]
  },
  {
   "cell_type": "code",
   "execution_count": 82,
   "id": "enabling-earth",
   "metadata": {},
   "outputs": [
    {
     "name": "stderr",
     "output_type": "stream",
     "text": [
      "/Users/lucy/miniconda3/envs/pymatgen/lib/python3.7/site-packages/ase/calculators/castep.py:3073: UserWarning: Generating CASTEP keywords JSON file... hang on.\n",
      "    The CASTEP keywords JSON file contains abstractions for CASTEP input\n",
      "    parameters (for both .cell and .param input files), including some\n",
      "    format checks and descriptions. The latter are extracted from the\n",
      "    internal online help facility of a CASTEP binary, thus allowing to\n",
      "    easily keep the calculator synchronized with (different versions of)\n",
      "    the CASTEP code. Consequently, avoiding licensing issues (CASTEP is\n",
      "    distributed commercially by accelrys), we consider it wise not to\n",
      "    provide the file in the first place.\n",
      "  provide the file in the first place.\"\"\")\n",
      "/Users/lucy/miniconda3/envs/pymatgen/lib/python3.7/site-packages/ase/calculators/castep.py:477: UserWarning: Could not determine the version of your CASTEP binary \n",
      "This usually means one of the following \n",
      "   * you do not have CASTEP installed \n",
      "   * you have not set the CASTEP_COMMAND to call it \n",
      "   * you have provided a wrong CASTEP_COMMAND. \n",
      "     Make sure it is in your PATH\n",
      "\n",
      "\n",
      "  warnings.warn(str(e))\n"
     ]
    }
   ],
   "source": [
    "calc = Castep(\"./tests/data_castep/Si_singlespin/\")"
   ]
  },
  {
   "cell_type": "code",
   "execution_count": 95,
   "id": "maritime-foundation",
   "metadata": {},
   "outputs": [
    {
     "name": "stderr",
     "output_type": "stream",
     "text": [
      "/Users/lucy/miniconda3/envs/pymatgen/lib/python3.7/site-packages/ase/calculators/castep.py:3073: UserWarning: Generating CASTEP keywords JSON file... hang on.\n",
      "    The CASTEP keywords JSON file contains abstractions for CASTEP input\n",
      "    parameters (for both .cell and .param input files), including some\n",
      "    format checks and descriptions. The latter are extracted from the\n",
      "    internal online help facility of a CASTEP binary, thus allowing to\n",
      "    easily keep the calculator synchronized with (different versions of)\n",
      "    the CASTEP code. Consequently, avoiding licensing issues (CASTEP is\n",
      "    distributed commercially by accelrys), we consider it wise not to\n",
      "    provide the file in the first place.\n",
      "  provide the file in the first place.\"\"\")\n",
      "/Users/lucy/miniconda3/envs/pymatgen/lib/python3.7/site-packages/ase/calculators/castep.py:477: UserWarning: Could not determine the version of your CASTEP binary \n",
      "This usually means one of the following \n",
      "   * you do not have CASTEP installed \n",
      "   * you have not set the CASTEP_COMMAND to call it \n",
      "   * you have provided a wrong CASTEP_COMMAND. \n",
      "     Make sure it is in your PATH\n",
      "\n",
      "\n",
      "  warnings.warn(str(e))\n",
      "/Users/lucy/miniconda3/envs/pymatgen/lib/python3.7/site-packages/ase/io/castep.py:418: UserWarning: read_cell: Warning - Was not able to validate CASTEP input. This may be due to a non-existing \"castep_keywords.json\" file or a non-existing CASTEP installation. Parsing will go on but keywords will not be validated and may cause problems if incorrect during a CASTEP run.\n",
      "  warnings.warn('read_cell: Warning - Was not able to validate CASTEP input. '\n"
     ]
    }
   ],
   "source": [
    "atoms=ase.io.castep.read_seed('./tests/data_castep/Si_singlespin/Si')"
   ]
  },
  {
   "cell_type": "code",
   "execution_count": 87,
   "id": "fresh-dimension",
   "metadata": {},
   "outputs": [
    {
     "data": {
      "text/plain": [
       "Atoms(symbols='Si2', pbc=True, cell=[[2.6954645, 2.6954645, 0.0], [2.6954645, 0.0, 2.6954645], [0.0, 2.6954645, 2.6954645]], castep_labels=..., initial_magmoms=..., calculator=Castep(...))"
      ]
     },
     "execution_count": 87,
     "metadata": {},
     "output_type": "execute_result"
    }
   ],
   "source": [
    "atoms"
   ]
  },
  {
   "cell_type": "code",
   "execution_count": 85,
   "id": "spectacular-arizona",
   "metadata": {},
   "outputs": [
    {
     "ename": "AttributeError",
     "evalue": "'BandStructure' object has no attribute 'kpoints'",
     "output_type": "error",
     "traceback": [
      "\u001b[0;31m---------------------------------------------------------------------------\u001b[0m",
      "\u001b[0;31mAttributeError\u001b[0m                            Traceback (most recent call last)",
      "\u001b[0;32m<ipython-input-85-6ce246598594>\u001b[0m in \u001b[0;36m<module>\u001b[0;34m\u001b[0m\n\u001b[0;32m----> 1\u001b[0;31m \u001b[0mbs\u001b[0m\u001b[0;34m.\u001b[0m\u001b[0mkpoints\u001b[0m\u001b[0;34m\u001b[0m\u001b[0;34m\u001b[0m\u001b[0m\n\u001b[0m",
      "\u001b[0;31mAttributeError\u001b[0m: 'BandStructure' object has no attribute 'kpoints'"
     ]
    }
   ],
   "source": [
    "bs.kpoints"
   ]
  },
  {
   "cell_type": "code",
   "execution_count": 88,
   "id": "alternate-water",
   "metadata": {},
   "outputs": [],
   "source": [
    "calc.atoms = atoms"
   ]
  },
  {
   "cell_type": "code",
   "execution_count": 89,
   "id": "outstanding-inflation",
   "metadata": {},
   "outputs": [],
   "source": [
    "bs=calc.band_structure(\"./tests/data_castep/Si_singlespin/Si.bands\")"
   ]
  },
  {
   "cell_type": "code",
   "execution_count": 92,
   "id": "taken-wrapping",
   "metadata": {},
   "outputs": [
    {
     "data": {
      "text/plain": [
       "array([[-2.77555756e-17,  1.85496785e-01,  9.27483927e-02],\n",
       "       [ 7.13449203e-03,  1.78362293e-01,  9.27483927e-02],\n",
       "       [ 1.42689841e-02,  1.71227801e-01,  9.27483927e-02],\n",
       "       [ 2.14034761e-02,  1.64093309e-01,  9.27483927e-02],\n",
       "       [ 2.85379681e-02,  1.56958817e-01,  9.27483927e-02],\n",
       "       [ 3.56724602e-02,  1.49824325e-01,  9.27483927e-02],\n",
       "       [ 4.28069522e-02,  1.42689833e-01,  9.27483927e-02],\n",
       "       [ 4.99414405e-02,  1.35555345e-01,  9.27483927e-02],\n",
       "       [ 5.70759326e-02,  1.28420853e-01,  9.27483927e-02],\n",
       "       [ 6.42104246e-02,  1.21286361e-01,  9.27483927e-02],\n",
       "       [ 7.13449166e-02,  1.14151869e-01,  9.27483927e-02],\n",
       "       [ 7.84794087e-02,  1.07017377e-01,  9.27483927e-02],\n",
       "       [ 8.56139007e-02,  9.98828847e-02,  9.27483927e-02],\n",
       "       [ 9.27483927e-02,  9.27483927e-02,  9.27483927e-02],\n",
       "       [ 8.69516182e-02,  8.69516182e-02,  8.69516182e-02],\n",
       "       [ 8.11548436e-02,  8.11548436e-02,  8.11548436e-02],\n",
       "       [ 7.53580691e-02,  7.53580691e-02,  7.53580691e-02],\n",
       "       [ 6.95612945e-02,  6.95612945e-02,  6.95612945e-02],\n",
       "       [ 6.37645200e-02,  6.37645200e-02,  6.37645200e-02],\n",
       "       [ 5.79677454e-02,  5.79677454e-02,  5.79677454e-02],\n",
       "       [ 5.21709709e-02,  5.21709709e-02,  5.21709709e-02],\n",
       "       [ 4.63741964e-02,  4.63741964e-02,  4.63741964e-02],\n",
       "       [ 4.05774218e-02,  4.05774218e-02,  4.05774218e-02],\n",
       "       [ 3.47806473e-02,  3.47806473e-02,  3.47806473e-02],\n",
       "       [ 2.89838727e-02,  2.89838727e-02,  2.89838727e-02],\n",
       "       [ 2.31870982e-02,  2.31870982e-02,  2.31870982e-02],\n",
       "       [ 1.73903236e-02,  1.73903236e-02,  1.73903236e-02],\n",
       "       [ 1.15935491e-02,  1.15935491e-02,  1.15935491e-02],\n",
       "       [ 5.79677454e-03,  5.79677454e-03,  5.79677454e-03],\n",
       "       [ 0.00000000e+00,  0.00000000e+00,  0.00000000e+00],\n",
       "       [ 0.00000000e+00,  1.03053778e-02, -8.67361738e-19],\n",
       "       [ 0.00000000e+00,  2.06107556e-02, -1.73472348e-18],\n",
       "       [ 0.00000000e+00,  3.09161297e-02, -1.73472348e-18],\n",
       "       [ 0.00000000e+00,  4.12215075e-02, -3.46944695e-18],\n",
       "       [ 0.00000000e+00,  5.15268853e-02, -3.46944695e-18],\n",
       "       [ 0.00000000e+00,  6.18322630e-02, -6.93889390e-18],\n",
       "       [ 0.00000000e+00,  7.21376371e-02, -6.93889390e-18],\n",
       "       [ 0.00000000e+00,  8.24430149e-02, -6.93889390e-18],\n",
       "       [ 0.00000000e+00,  9.27483927e-02, -6.93889390e-18],\n",
       "       [ 0.00000000e+00,  1.03053771e-01, -6.93889390e-18],\n",
       "       [ 0.00000000e+00,  1.13359148e-01, -6.93889390e-18],\n",
       "       [ 0.00000000e+00,  1.23664522e-01, -6.93889390e-18],\n",
       "       [ 0.00000000e+00,  1.33969900e-01, -1.38777878e-17],\n",
       "       [ 0.00000000e+00,  1.44275278e-01,  0.00000000e+00],\n",
       "       [ 0.00000000e+00,  1.54580656e-01, -1.38777878e-17],\n",
       "       [ 0.00000000e+00,  1.64886030e-01, -1.38777878e-17],\n",
       "       [ 0.00000000e+00,  1.75191408e-01, -1.38777878e-17],\n",
       "       [ 0.00000000e+00,  1.85496785e-01, -1.38777878e-17],\n",
       "       [ 0.00000000e+00,  1.85496785e-01,  1.03053778e-02],\n",
       "       [ 1.38777878e-17,  1.85496785e-01,  2.06107556e-02],\n",
       "       [ 0.00000000e+00,  1.85496785e-01,  3.09161297e-02],\n",
       "       [ 0.00000000e+00,  1.85496785e-01,  4.12215075e-02],\n",
       "       [-1.38777878e-17,  1.85496785e-01,  5.15268853e-02],\n",
       "       [-1.38777878e-17,  1.85496785e-01,  6.18322630e-02],\n",
       "       [-2.77555756e-17,  1.85496785e-01,  7.21376371e-02],\n",
       "       [-2.77555756e-17,  1.85496785e-01,  8.24430149e-02],\n",
       "       [-2.77555756e-17,  1.78871901e-01,  9.93732769e-02],\n",
       "       [-2.77555756e-17,  1.72247013e-01,  1.05998165e-01],\n",
       "       [-2.77555756e-17,  1.65622129e-01,  1.12623049e-01],\n",
       "       [-2.77555756e-17,  1.58997245e-01,  1.19247933e-01],\n",
       "       [ 0.00000000e+00,  1.52372361e-01,  1.25872817e-01],\n",
       "       [ 0.00000000e+00,  1.45747473e-01,  1.32497705e-01],\n",
       "       [ 0.00000000e+00,  1.39122589e-01,  1.39122589e-01]])"
      ]
     },
     "execution_count": 92,
     "metadata": {},
     "output_type": "execute_result"
    }
   ],
   "source": [
    "bs.path.cartesian_kpts()\n",
    "\n"
   ]
  },
  {
   "cell_type": "code",
   "execution_count": 53,
   "id": "strong-malpractice",
   "metadata": {},
   "outputs": [],
   "source": [
    "calc.band_structure?"
   ]
  },
  {
   "cell_type": "code",
   "execution_count": null,
   "id": "brown-release",
   "metadata": {},
   "outputs": [],
   "source": [
    "calc."
   ]
  }
 ],
 "metadata": {
  "kernelspec": {
   "display_name": "Python 3",
   "language": "python",
   "name": "python3"
  },
  "language_info": {
   "codemirror_mode": {
    "name": "ipython",
    "version": 3
   },
   "file_extension": ".py",
   "mimetype": "text/x-python",
   "name": "python",
   "nbconvert_exporter": "python",
   "pygments_lexer": "ipython3",
   "version": "3.7.9"
  }
 },
 "nbformat": 4,
 "nbformat_minor": 5
}
