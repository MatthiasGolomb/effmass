{
 "cells": [
  {
   "cell_type": "code",
   "execution_count": 1,
   "id": "distributed-thought",
   "metadata": {},
   "outputs": [],
   "source": [
    "from vasppy import procar, outcar\n",
    "from effmass import extrema\n",
    "import math\n",
    "import warnings\n",
    "import numpy as np"
   ]
  },
  {
   "cell_type": "code",
   "execution_count": null,
   "id": "dressed-march",
   "metadata": {},
   "outputs": [],
   "source": [
    "class DataCastep():\n",
    "    r\"\"\"\n",
    "    Class for parsing and storing ASE bandstructure object.\n",
    "\n",
    "    Attributes:\n",
    "        spin_channels (int): 1 (non-spin-polarised), 2 (spin-polarised), 4 (spin-orbit coupling).\n",
    "        number_of_kpoints (int): the number of k-points per band.\n",
    "        number_of_bands (int): the number of bands.\n",
    "        number_of_ions (int): the number of ions.\n",
    "        kpoints (array(float)): 2-dimensional array with shape (number_of_kpoints, 3). Each row contains the fractional coordinates of a kpoint [kx,ky,kz].\n",
    "        energies (array(float)): 2-dimensional array with shape (number_of_bands,number_of_kpoints). Each row contains energies of eigenstates in eV for a particular band.\n",
    "        occupancy (array(float)): 2-dimensional array with shape (number_of_bands,number_of_kpoints). Each row contains occupation number of the eigenstates for a particular band. Values range from 0-1 (spin-polarised) or 0-2 (non-spin-polarised).\n",
    "        reciprocal_lattice (list(float)): the reciprocal lattice vectors in format [[x1,y1,z1],[x2,y2,z2],[x3,y3,z3]], units Angstrom :math:`^{-1}`.\n",
    "        CBM (float): the conduction band minimum energy in eV.\n",
    "        VBM (float): the valence band maximum in eV.\n",
    "        fermi_energy (float): the fermi energy in eV. Automatically set to the mean of Data.CBM and Data.VBM.\n",
    "    \"\"\"\n",
    "    "
   ]
  },
  {
   "cell_type": "code",
   "execution_count": 31,
   "id": "imported-allowance",
   "metadata": {},
   "outputs": [],
   "source": [
    "import ase\n",
    "from ase.spectrum.band_structure import BandStructure\n",
    "from ase.calculators.castep import Castep"
   ]
  },
  {
   "cell_type": "code",
   "execution_count": 20,
   "id": "enormous-motion",
   "metadata": {},
   "outputs": [
    {
     "name": "stderr",
     "output_type": "stream",
     "text": [
      "/Users/lucy/miniconda3/envs/pymatgen/lib/python3.7/site-packages/ase/calculators/castep.py:3073: UserWarning: Generating CASTEP keywords JSON file... hang on.\n",
      "    The CASTEP keywords JSON file contains abstractions for CASTEP input\n",
      "    parameters (for both .cell and .param input files), including some\n",
      "    format checks and descriptions. The latter are extracted from the\n",
      "    internal online help facility of a CASTEP binary, thus allowing to\n",
      "    easily keep the calculator synchronized with (different versions of)\n",
      "    the CASTEP code. Consequently, avoiding licensing issues (CASTEP is\n",
      "    distributed commercially by accelrys), we consider it wise not to\n",
      "    provide the file in the first place.\n",
      "  provide the file in the first place.\"\"\")\n",
      "/Users/lucy/miniconda3/envs/pymatgen/lib/python3.7/site-packages/ase/calculators/castep.py:477: UserWarning: Could not determine the version of your CASTEP binary \n",
      "This usually means one of the following \n",
      "   * you do not have CASTEP installed \n",
      "   * you have not set the CASTEP_COMMAND to call it \n",
      "   * you have provided a wrong CASTEP_COMMAND. \n",
      "     Make sure it is in your PATH\n",
      "\n",
      "\n",
      "  warnings.warn(str(e))\n"
     ]
    }
   ],
   "source": [
    "calc = Castep(\"./tests/data_castep/Si_singlespin/\",\"Si\")"
   ]
  },
  {
   "cell_type": "code",
   "execution_count": 35,
   "id": "bearing-attempt",
   "metadata": {},
   "outputs": [
    {
     "name": "stderr",
     "output_type": "stream",
     "text": [
      "/Users/lucy/miniconda3/envs/pymatgen/lib/python3.7/site-packages/ase/calculators/castep.py:3073: UserWarning: Generating CASTEP keywords JSON file... hang on.\n",
      "    The CASTEP keywords JSON file contains abstractions for CASTEP input\n",
      "    parameters (for both .cell and .param input files), including some\n",
      "    format checks and descriptions. The latter are extracted from the\n",
      "    internal online help facility of a CASTEP binary, thus allowing to\n",
      "    easily keep the calculator synchronized with (different versions of)\n",
      "    the CASTEP code. Consequently, avoiding licensing issues (CASTEP is\n",
      "    distributed commercially by accelrys), we consider it wise not to\n",
      "    provide the file in the first place.\n",
      "  provide the file in the first place.\"\"\")\n",
      "/Users/lucy/miniconda3/envs/pymatgen/lib/python3.7/site-packages/ase/calculators/castep.py:477: UserWarning: Could not determine the version of your CASTEP binary \n",
      "This usually means one of the following \n",
      "   * you do not have CASTEP installed \n",
      "   * you have not set the CASTEP_COMMAND to call it \n",
      "   * you have provided a wrong CASTEP_COMMAND. \n",
      "     Make sure it is in your PATH\n",
      "\n",
      "\n",
      "  warnings.warn(str(e))\n",
      "/Users/lucy/miniconda3/envs/pymatgen/lib/python3.7/site-packages/ase/io/castep.py:418: UserWarning: read_cell: Warning - Was not able to validate CASTEP input. This may be due to a non-existing \"castep_keywords.json\" file or a non-existing CASTEP installation. Parsing will go on but keywords will not be validated and may cause problems if incorrect during a CASTEP run.\n",
      "  warnings.warn('read_cell: Warning - Was not able to validate CASTEP input. '\n"
     ]
    }
   ],
   "source": [
    "atoms=ase.io.castep.read_seed('./tests/data_castep/Si_singlespin/Si')"
   ]
  },
  {
   "cell_type": "code",
   "execution_count": 40,
   "id": "senior-punishment",
   "metadata": {},
   "outputs": [
    {
     "data": {
      "text/plain": [
       "Atoms(symbols='Si2', pbc=True, cell=[[2.6954645, 2.6954645, 0.0], [2.6954645, 0.0, 2.6954645], [0.0, 2.6954645, 2.6954645]], castep_labels=..., initial_magmoms=..., calculator=Castep(...))"
      ]
     },
     "execution_count": 40,
     "metadata": {},
     "output_type": "execute_result"
    }
   ],
   "source": [
    "atoms"
   ]
  },
  {
   "cell_type": "code",
   "execution_count": null,
   "id": "angry-secretary",
   "metadata": {},
   "outputs": [],
   "source": []
  },
  {
   "cell_type": "code",
   "execution_count": 41,
   "id": "vietnamese-newman",
   "metadata": {},
   "outputs": [],
   "source": [
    "calc.atoms = atoms"
   ]
  },
  {
   "cell_type": "code",
   "execution_count": 47,
   "id": "martial-modification",
   "metadata": {},
   "outputs": [],
   "source": [
    "bs=calc.band_structure(\"./tests/data_castep/Si_singlespin/Si.bands\")"
   ]
  },
  {
   "cell_type": "code",
   "execution_count": 52,
   "id": "anticipated-ethernet",
   "metadata": {},
   "outputs": [
    {
     "data": {
      "text/plain": [
       "1.2881053080765"
      ]
     },
     "execution_count": 52,
     "metadata": {},
     "output_type": "execute_result"
    }
   ],
   "source": [
    "bs.reference"
   ]
  },
  {
   "cell_type": "code",
   "execution_count": 53,
   "id": "united-translation",
   "metadata": {},
   "outputs": [],
   "source": [
    "calc.band_structure?"
   ]
  },
  {
   "cell_type": "code",
   "execution_count": null,
   "id": "injured-craps",
   "metadata": {},
   "outputs": [],
   "source": []
  }
 ],
 "metadata": {
  "kernelspec": {
   "display_name": "Python 3",
   "language": "python",
   "name": "python3"
  },
  "language_info": {
   "codemirror_mode": {
    "name": "ipython",
    "version": 3
   },
   "file_extension": ".py",
   "mimetype": "text/x-python",
   "name": "python",
   "nbconvert_exporter": "python",
   "pygments_lexer": "ipython3",
   "version": "3.7.9"
  }
 },
 "nbformat": 4,
 "nbformat_minor": 5
}
